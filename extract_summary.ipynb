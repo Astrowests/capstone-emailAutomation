{
 "metadata": {
  "language_info": {
   "codemirror_mode": {
    "name": "ipython",
    "version": 3
   },
   "file_extension": ".py",
   "mimetype": "text/x-python",
   "name": "python",
   "nbconvert_exporter": "python",
   "pygments_lexer": "ipython3",
   "version": "3.7.9-final"
  },
  "orig_nbformat": 2,
  "kernelspec": {
   "name": "emailautomated",
   "display_name": "emailAutomated"
  }
 },
 "nbformat": 4,
 "nbformat_minor": 2,
 "cells": [
  {
   "cell_type": "code",
   "execution_count": 1,
   "metadata": {},
   "outputs": [],
   "source": [
    "import pandas as pd\n",
    "import matplotlib.pyplot as plt\n",
    "from datetime import date"
   ]
  },
  {
   "source": [
    "# Extract Summary"
   ],
   "cell_type": "markdown",
   "metadata": {}
  },
  {
   "cell_type": "code",
   "execution_count": 17,
   "metadata": {},
   "outputs": [
    {
     "output_type": "execute_result",
     "data": {
      "text/plain": [
       "        ad_id reporting_start reporting_end campaign_id fb_campaign_id    age  \\\n",
       "0      708746      17/08/2017    17/08/2017         916         103916  30-34   \n",
       "1      708749      17/08/2017    17/08/2017         916         103917  30-34   \n",
       "2      708771      17/08/2017    17/08/2017         916         103920  30-34   \n",
       "3      708815      30/08/2017    30/08/2017         916         103928  30-34   \n",
       "4      708818      17/08/2017    17/08/2017         916         103928  30-34   \n",
       "...       ...             ...           ...         ...            ...    ...   \n",
       "1138  1314410      19/08/2017    19/08/2017       45-49              F    109   \n",
       "1139  1314411      19/08/2017    19/08/2017       45-49              F    110   \n",
       "1140  1314412      19/08/2017    19/08/2017       45-49              F    111   \n",
       "1141  1314414      17/08/2017    17/08/2017       45-49              F    113   \n",
       "1142  1314415      17/08/2017    17/08/2017       45-49              F    114   \n",
       "\n",
       "     gender  interest1  interest2  interest3   impressions  clicks  spent  \\\n",
       "0         M         15         17         17   7350.000000       1   1.43   \n",
       "1         M         16         19         21  17861.000000       2   1.82   \n",
       "2         M         20         25         22    693.000000       0   0.00   \n",
       "3         M         28         32         32   4259.000000       1   1.25   \n",
       "4         M         28         33         32   4133.000000       1   1.29   \n",
       "...     ...        ...        ...        ...           ...     ...    ...   \n",
       "1138    111        114    1129773        252    358.189997      13   2.00   \n",
       "1139    111        116     637549        120    173.880003       3   0.00   \n",
       "1140    113        117     151531         28     40.289999       2   0.00   \n",
       "1141    114        117     790253        135    198.710000       8   2.00   \n",
       "1142    116        118     513161        114    165.609999       5   2.00   \n",
       "\n",
       "      total_conversion  approved_conversion  \n",
       "0                  2.0                  1.0  \n",
       "1                  2.0                  0.0  \n",
       "2                  1.0                  0.0  \n",
       "3                  1.0                  0.0  \n",
       "4                  1.0                  1.0  \n",
       "...                ...                  ...  \n",
       "1138               NaN                  NaN  \n",
       "1139               NaN                  NaN  \n",
       "1140               NaN                  NaN  \n",
       "1141               NaN                  NaN  \n",
       "1142               NaN                  NaN  \n",
       "\n",
       "[1143 rows x 15 columns]"
      ],
      "text/html": "<div>\n<style scoped>\n    .dataframe tbody tr th:only-of-type {\n        vertical-align: middle;\n    }\n\n    .dataframe tbody tr th {\n        vertical-align: top;\n    }\n\n    .dataframe thead th {\n        text-align: right;\n    }\n</style>\n<table border=\"1\" class=\"dataframe\">\n  <thead>\n    <tr style=\"text-align: right;\">\n      <th></th>\n      <th>ad_id</th>\n      <th>reporting_start</th>\n      <th>reporting_end</th>\n      <th>campaign_id</th>\n      <th>fb_campaign_id</th>\n      <th>age</th>\n      <th>gender</th>\n      <th>interest1</th>\n      <th>interest2</th>\n      <th>interest3</th>\n      <th>impressions</th>\n      <th>clicks</th>\n      <th>spent</th>\n      <th>total_conversion</th>\n      <th>approved_conversion</th>\n    </tr>\n  </thead>\n  <tbody>\n    <tr>\n      <th>0</th>\n      <td>708746</td>\n      <td>17/08/2017</td>\n      <td>17/08/2017</td>\n      <td>916</td>\n      <td>103916</td>\n      <td>30-34</td>\n      <td>M</td>\n      <td>15</td>\n      <td>17</td>\n      <td>17</td>\n      <td>7350.000000</td>\n      <td>1</td>\n      <td>1.43</td>\n      <td>2.0</td>\n      <td>1.0</td>\n    </tr>\n    <tr>\n      <th>1</th>\n      <td>708749</td>\n      <td>17/08/2017</td>\n      <td>17/08/2017</td>\n      <td>916</td>\n      <td>103917</td>\n      <td>30-34</td>\n      <td>M</td>\n      <td>16</td>\n      <td>19</td>\n      <td>21</td>\n      <td>17861.000000</td>\n      <td>2</td>\n      <td>1.82</td>\n      <td>2.0</td>\n      <td>0.0</td>\n    </tr>\n    <tr>\n      <th>2</th>\n      <td>708771</td>\n      <td>17/08/2017</td>\n      <td>17/08/2017</td>\n      <td>916</td>\n      <td>103920</td>\n      <td>30-34</td>\n      <td>M</td>\n      <td>20</td>\n      <td>25</td>\n      <td>22</td>\n      <td>693.000000</td>\n      <td>0</td>\n      <td>0.00</td>\n      <td>1.0</td>\n      <td>0.0</td>\n    </tr>\n    <tr>\n      <th>3</th>\n      <td>708815</td>\n      <td>30/08/2017</td>\n      <td>30/08/2017</td>\n      <td>916</td>\n      <td>103928</td>\n      <td>30-34</td>\n      <td>M</td>\n      <td>28</td>\n      <td>32</td>\n      <td>32</td>\n      <td>4259.000000</td>\n      <td>1</td>\n      <td>1.25</td>\n      <td>1.0</td>\n      <td>0.0</td>\n    </tr>\n    <tr>\n      <th>4</th>\n      <td>708818</td>\n      <td>17/08/2017</td>\n      <td>17/08/2017</td>\n      <td>916</td>\n      <td>103928</td>\n      <td>30-34</td>\n      <td>M</td>\n      <td>28</td>\n      <td>33</td>\n      <td>32</td>\n      <td>4133.000000</td>\n      <td>1</td>\n      <td>1.29</td>\n      <td>1.0</td>\n      <td>1.0</td>\n    </tr>\n    <tr>\n      <th>...</th>\n      <td>...</td>\n      <td>...</td>\n      <td>...</td>\n      <td>...</td>\n      <td>...</td>\n      <td>...</td>\n      <td>...</td>\n      <td>...</td>\n      <td>...</td>\n      <td>...</td>\n      <td>...</td>\n      <td>...</td>\n      <td>...</td>\n      <td>...</td>\n      <td>...</td>\n    </tr>\n    <tr>\n      <th>1138</th>\n      <td>1314410</td>\n      <td>19/08/2017</td>\n      <td>19/08/2017</td>\n      <td>45-49</td>\n      <td>F</td>\n      <td>109</td>\n      <td>111</td>\n      <td>114</td>\n      <td>1129773</td>\n      <td>252</td>\n      <td>358.189997</td>\n      <td>13</td>\n      <td>2.00</td>\n      <td>NaN</td>\n      <td>NaN</td>\n    </tr>\n    <tr>\n      <th>1139</th>\n      <td>1314411</td>\n      <td>19/08/2017</td>\n      <td>19/08/2017</td>\n      <td>45-49</td>\n      <td>F</td>\n      <td>110</td>\n      <td>111</td>\n      <td>116</td>\n      <td>637549</td>\n      <td>120</td>\n      <td>173.880003</td>\n      <td>3</td>\n      <td>0.00</td>\n      <td>NaN</td>\n      <td>NaN</td>\n    </tr>\n    <tr>\n      <th>1140</th>\n      <td>1314412</td>\n      <td>19/08/2017</td>\n      <td>19/08/2017</td>\n      <td>45-49</td>\n      <td>F</td>\n      <td>111</td>\n      <td>113</td>\n      <td>117</td>\n      <td>151531</td>\n      <td>28</td>\n      <td>40.289999</td>\n      <td>2</td>\n      <td>0.00</td>\n      <td>NaN</td>\n      <td>NaN</td>\n    </tr>\n    <tr>\n      <th>1141</th>\n      <td>1314414</td>\n      <td>17/08/2017</td>\n      <td>17/08/2017</td>\n      <td>45-49</td>\n      <td>F</td>\n      <td>113</td>\n      <td>114</td>\n      <td>117</td>\n      <td>790253</td>\n      <td>135</td>\n      <td>198.710000</td>\n      <td>8</td>\n      <td>2.00</td>\n      <td>NaN</td>\n      <td>NaN</td>\n    </tr>\n    <tr>\n      <th>1142</th>\n      <td>1314415</td>\n      <td>17/08/2017</td>\n      <td>17/08/2017</td>\n      <td>45-49</td>\n      <td>F</td>\n      <td>114</td>\n      <td>116</td>\n      <td>118</td>\n      <td>513161</td>\n      <td>114</td>\n      <td>165.609999</td>\n      <td>5</td>\n      <td>2.00</td>\n      <td>NaN</td>\n      <td>NaN</td>\n    </tr>\n  </tbody>\n</table>\n<p>1143 rows × 15 columns</p>\n</div>"
     },
     "metadata": {},
     "execution_count": 17
    }
   ],
   "source": [
    "  fb = pd.read_csv('data_input/data.csv')\n",
    "  fb"
   ]
  },
  {
   "cell_type": "code",
   "execution_count": 20,
   "metadata": {},
   "outputs": [
    {
     "output_type": "error",
     "ename": "KeyError",
     "evalue": "\"Columns not found: '936', '1178'\"",
     "traceback": [
      "\u001b[1;31m---------------------------------------------------------------------------\u001b[0m",
      "\u001b[1;31mKeyError\u001b[0m                                  Traceback (most recent call last)",
      "\u001b[1;32m<ipython-input-20-39e69029dcd7>\u001b[0m in \u001b[0;36m<module>\u001b[1;34m\u001b[0m\n\u001b[1;32m----> 1\u001b[1;33m \u001b[0mcpc\u001b[0m \u001b[1;33m=\u001b[0m \u001b[0mcampaigns\u001b[0m\u001b[1;33m.\u001b[0m\u001b[0mgroupby\u001b[0m\u001b[1;33m(\u001b[0m\u001b[1;33m[\u001b[0m\u001b[1;34m'campaign_id'\u001b[0m\u001b[1;33m]\u001b[0m\u001b[1;33m)\u001b[0m\u001b[1;33m[\u001b[0m\u001b[1;33m[\u001b[0m\u001b[1;34m'936'\u001b[0m\u001b[1;33m,\u001b[0m\u001b[1;34m'1178'\u001b[0m\u001b[1;33m]\u001b[0m\u001b[1;33m]\u001b[0m\u001b[1;33m.\u001b[0m\u001b[0msum\u001b[0m\u001b[1;33m(\u001b[0m\u001b[1;33m)\u001b[0m\u001b[1;33m\u001b[0m\u001b[1;33m\u001b[0m\u001b[0m\n\u001b[0m",
      "\u001b[1;32m~\\Anaconda3\\envs\\emailAutomated\\lib\\site-packages\\pandas\\core\\base.py\u001b[0m in \u001b[0;36m__getitem__\u001b[1;34m(self, key)\u001b[0m\n\u001b[0;32m    255\u001b[0m                 \u001b[0mbad_keys\u001b[0m \u001b[1;33m=\u001b[0m \u001b[0mlist\u001b[0m\u001b[1;33m(\u001b[0m\u001b[0mset\u001b[0m\u001b[1;33m(\u001b[0m\u001b[0mkey\u001b[0m\u001b[1;33m)\u001b[0m\u001b[1;33m.\u001b[0m\u001b[0mdifference\u001b[0m\u001b[1;33m(\u001b[0m\u001b[0mself\u001b[0m\u001b[1;33m.\u001b[0m\u001b[0mobj\u001b[0m\u001b[1;33m.\u001b[0m\u001b[0mcolumns\u001b[0m\u001b[1;33m)\u001b[0m\u001b[1;33m)\u001b[0m\u001b[1;33m\u001b[0m\u001b[1;33m\u001b[0m\u001b[0m\n\u001b[0;32m    256\u001b[0m                 raise KeyError(\n\u001b[1;32m--> 257\u001b[1;33m                     \u001b[1;34m\"Columns not found: {missing}\"\u001b[0m\u001b[1;33m.\u001b[0m\u001b[0mformat\u001b[0m\u001b[1;33m(\u001b[0m\u001b[0mmissing\u001b[0m\u001b[1;33m=\u001b[0m\u001b[0mstr\u001b[0m\u001b[1;33m(\u001b[0m\u001b[0mbad_keys\u001b[0m\u001b[1;33m)\u001b[0m\u001b[1;33m[\u001b[0m\u001b[1;36m1\u001b[0m\u001b[1;33m:\u001b[0m\u001b[1;33m-\u001b[0m\u001b[1;36m1\u001b[0m\u001b[1;33m]\u001b[0m\u001b[1;33m)\u001b[0m\u001b[1;33m\u001b[0m\u001b[1;33m\u001b[0m\u001b[0m\n\u001b[0m\u001b[0;32m    258\u001b[0m                 )\n\u001b[0;32m    259\u001b[0m             \u001b[1;32mreturn\u001b[0m \u001b[0mself\u001b[0m\u001b[1;33m.\u001b[0m\u001b[0m_gotitem\u001b[0m\u001b[1;33m(\u001b[0m\u001b[0mlist\u001b[0m\u001b[1;33m(\u001b[0m\u001b[0mkey\u001b[0m\u001b[1;33m)\u001b[0m\u001b[1;33m,\u001b[0m \u001b[0mndim\u001b[0m\u001b[1;33m=\u001b[0m\u001b[1;36m2\u001b[0m\u001b[1;33m)\u001b[0m\u001b[1;33m\u001b[0m\u001b[1;33m\u001b[0m\u001b[0m\n",
      "\u001b[1;31mKeyError\u001b[0m: \"Columns not found: '936', '1178'\""
     ]
    }
   ],
   "source": [
    "cpc = campaigns.groupby(['campaign_id'])[['936','1178']].sum()"
   ]
  },
  {
   "cell_type": "code",
   "execution_count": 25,
   "metadata": {},
   "outputs": [],
   "source": [
    "def extract_summary(file_path=\"data_input/data.csv\", id=['936','1178']):\n",
    "  \"\"\"   \n",
    "  Extract all relevant information, containing 6 variables\n",
    "  start_date, end_date, total_spent, total_conversion, cpc_1, cpc_2\n",
    "  \"\"\"\n",
    "  fb = pd.read_csv(file_path)\n",
    "  campaigns = fb[fb['campaign_id'].isin(id)]\n",
    "  campaigns = campaigns[campaigns.spent > 0]\n",
    "\n",
    "  # Make sure to passed in appropriate preprocessing before extracting the start and end date\n",
    "  campaigns['reporting_start'] = campaigns['reporting_start'].astype('datetime64')\n",
    "  start_date = campaigns['reporting_start'].min().strftime(format=\"%d %b %Y\")\n",
    "  end_date = campaigns['reporting_start'].max().strftime(format=\"%d %b %Y\")\n",
    "\n",
    "  total_spent = int(campaigns['spent'].sum())\n",
    "  total_conversion = int(campaigns['total_conversion'].sum())\n",
    "\n",
    "  # Create a cost per conversion dictionary per campaign\n",
    "  # Cost per conversion is spent divided by total conversion\n",
    "  cpc = campaigns.groupby(['campaign_id'])[['spent','total_conversion']].sum()\n",
    "  cpc['CPC'] = cpc['spent']/cpc['total_conversion']\n",
    "  cpc_each = dict()\n",
    "  for each in id:\n",
    "    cpc_each[each] = round(float(cpc[cpc.index == each]['CPC']), 2)\n",
    "\n",
    "  return {\n",
    "    \"start_date\": start_date,\n",
    "    \"end_date\": end_date,\n",
    "    \"total_spent\": total_spent,\n",
    "    \"total_conversion\": total_conversion,\n",
    "    \"cpc\": cpc_each}"
   ]
  },
  {
   "cell_type": "code",
   "execution_count": 26,
   "metadata": {},
   "outputs": [
    {
     "output_type": "execute_result",
     "data": {
      "text/plain": [
       "{'start_date': '18 Aug 2017',\n",
       " 'end_date': '30 Aug 2017',\n",
       " 'total_spent': 19470,\n",
       " 'total_conversion': 1398,\n",
       " 'cpc': {'936': 8.13, '1178': 15.91}}"
      ]
     },
     "metadata": {},
     "execution_count": 26
    }
   ],
   "source": [
    "extract_summary()"
   ]
  },
  {
   "cell_type": "code",
   "execution_count": 23,
   "metadata": {},
   "outputs": [],
   "source": [
    "file_path=\"data_input/data.csv\"\n",
    "id=['936','1178']\n",
    "\n",
    "\n",
    "fb = pd.read_csv(file_path)\n",
    "campaigns = fb[fb['campaign_id'].isin(id)]\n",
    "campaigns = campaigns[campaigns.spent > 0]"
   ]
  },
  {
   "cell_type": "code",
   "execution_count": 5,
   "metadata": {},
   "outputs": [
    {
     "output_type": "execute_result",
     "data": {
      "text/plain": [
       "     ad_id reporting_start reporting_end campaign_id fb_campaign_id    age  \\\n",
       "55  734210      25/08/2017    25/08/2017         936         108654  30-34   \n",
       "56  734215      26/08/2017    26/08/2017         936         108655  30-34   \n",
       "60  734290      26/08/2017    26/08/2017         936         108668  30-34   \n",
       "63  734352      27/08/2017    27/08/2017         936         108678  35-39   \n",
       "64  734361      29/08/2017    29/08/2017         936         108680  35-39   \n",
       "\n",
       "   gender  interest1  interest2  interest3  impressions  clicks  spent  \\\n",
       "55      M         10         16         13      13329.0       4   5.63   \n",
       "56      M         15         19         17      13659.0       3   3.84   \n",
       "60      M         29         32         35       5374.0       1   1.04   \n",
       "63      M         10         11         16       4423.0       1   1.46   \n",
       "64      M         16         19         19      12382.0       2   2.84   \n",
       "\n",
       "    total_conversion  approved_conversion  \n",
       "55               1.0                  1.0  \n",
       "56               1.0                  0.0  \n",
       "60               4.0                  0.0  \n",
       "63               1.0                  1.0  \n",
       "64               1.0                  1.0  "
      ],
      "text/html": "<div>\n<style scoped>\n    .dataframe tbody tr th:only-of-type {\n        vertical-align: middle;\n    }\n\n    .dataframe tbody tr th {\n        vertical-align: top;\n    }\n\n    .dataframe thead th {\n        text-align: right;\n    }\n</style>\n<table border=\"1\" class=\"dataframe\">\n  <thead>\n    <tr style=\"text-align: right;\">\n      <th></th>\n      <th>ad_id</th>\n      <th>reporting_start</th>\n      <th>reporting_end</th>\n      <th>campaign_id</th>\n      <th>fb_campaign_id</th>\n      <th>age</th>\n      <th>gender</th>\n      <th>interest1</th>\n      <th>interest2</th>\n      <th>interest3</th>\n      <th>impressions</th>\n      <th>clicks</th>\n      <th>spent</th>\n      <th>total_conversion</th>\n      <th>approved_conversion</th>\n    </tr>\n  </thead>\n  <tbody>\n    <tr>\n      <td>55</td>\n      <td>734210</td>\n      <td>25/08/2017</td>\n      <td>25/08/2017</td>\n      <td>936</td>\n      <td>108654</td>\n      <td>30-34</td>\n      <td>M</td>\n      <td>10</td>\n      <td>16</td>\n      <td>13</td>\n      <td>13329.0</td>\n      <td>4</td>\n      <td>5.63</td>\n      <td>1.0</td>\n      <td>1.0</td>\n    </tr>\n    <tr>\n      <td>56</td>\n      <td>734215</td>\n      <td>26/08/2017</td>\n      <td>26/08/2017</td>\n      <td>936</td>\n      <td>108655</td>\n      <td>30-34</td>\n      <td>M</td>\n      <td>15</td>\n      <td>19</td>\n      <td>17</td>\n      <td>13659.0</td>\n      <td>3</td>\n      <td>3.84</td>\n      <td>1.0</td>\n      <td>0.0</td>\n    </tr>\n    <tr>\n      <td>60</td>\n      <td>734290</td>\n      <td>26/08/2017</td>\n      <td>26/08/2017</td>\n      <td>936</td>\n      <td>108668</td>\n      <td>30-34</td>\n      <td>M</td>\n      <td>29</td>\n      <td>32</td>\n      <td>35</td>\n      <td>5374.0</td>\n      <td>1</td>\n      <td>1.04</td>\n      <td>4.0</td>\n      <td>0.0</td>\n    </tr>\n    <tr>\n      <td>63</td>\n      <td>734352</td>\n      <td>27/08/2017</td>\n      <td>27/08/2017</td>\n      <td>936</td>\n      <td>108678</td>\n      <td>35-39</td>\n      <td>M</td>\n      <td>10</td>\n      <td>11</td>\n      <td>16</td>\n      <td>4423.0</td>\n      <td>1</td>\n      <td>1.46</td>\n      <td>1.0</td>\n      <td>1.0</td>\n    </tr>\n    <tr>\n      <td>64</td>\n      <td>734361</td>\n      <td>29/08/2017</td>\n      <td>29/08/2017</td>\n      <td>936</td>\n      <td>108680</td>\n      <td>35-39</td>\n      <td>M</td>\n      <td>16</td>\n      <td>19</td>\n      <td>19</td>\n      <td>12382.0</td>\n      <td>2</td>\n      <td>2.84</td>\n      <td>1.0</td>\n      <td>1.0</td>\n    </tr>\n  </tbody>\n</table>\n</div>"
     },
     "metadata": {},
     "execution_count": 5
    }
   ],
   "source": [
    "campaigns.head()"
   ]
  },
  {
   "cell_type": "code",
   "execution_count": 7,
   "metadata": {},
   "outputs": [],
   "source": [
    "# Make sure to passed in appropriate preprocessing before extracting the start and end date\n",
    "campaigns['reporting_start'] = ___\n",
    "start_date = ___.min().strftime(format=\"%d %b %Y\")\n",
    "end_date = ___.max().strftime(format=\"%d %b %Y\")\n",
    "\n",
    "total_spent = int(___.sum())\n",
    "total_conversion = int(___.sum())"
   ]
  },
  {
   "source": [
    "----"
   ],
   "cell_type": "markdown",
   "metadata": {}
  },
  {
   "cell_type": "code",
   "execution_count": 21,
   "metadata": {},
   "outputs": [],
   "source": [
    "cpc = campaigns.groupby(['___'])[['___', '___']].sum()\n",
    "cpc['CPC'] = cpc['___']/cpc['___']\n",
    "cpc_each = dict()\n",
    "\n",
    "for each in id:\n",
    "    cpc_each[each] = round(float(cpc[cpc.index == each]['CPC']), 2)"
   ]
  },
  {
   "cell_type": "code",
   "execution_count": 22,
   "metadata": {},
   "outputs": [
    {
     "output_type": "execute_result",
     "data": {
      "text/plain": [
       "{'936': 8.13, '1178': 15.91}"
      ]
     },
     "metadata": {},
     "execution_count": 22
    }
   ],
   "source": [
    "cpc_each"
   ]
  },
  {
   "source": [
    "----"
   ],
   "cell_type": "markdown",
   "metadata": {}
  },
  {
   "source": [
    "# Create Plot"
   ],
   "cell_type": "markdown",
   "metadata": {}
  },
  {
   "cell_type": "code",
   "execution_count": null,
   "metadata": {},
   "outputs": [],
   "source": [
    "def create_plot(file_path=\"data_input/data.csv\", id=['936', '1178']):\n",
    "  \"\"\"   \n",
    "  Fetch data from data source and export as plot\n",
    "  \"\"\"\n",
    "  fb = pd.read_csv(file_path, parse_dates=[1,2])\n",
    "  campaigns = fb[fb['campaign_id'].isin(id)]\n",
    "  campaigns = campaigns[campaigns.spent > 0]\n",
    "\n",
    "  # Create a grouped dataframe based on campaign id, age group, and reporting date\n",
    "  # Calculate the total converision of each group\n",
    "  grouped = campaigns.groupby(by=['___', '___', '___'], as_index=False)['___'].___\n",
    "\n",
    "  fig = plt.figure(1, figsize=(15,6))\n",
    "\n",
    "  # Iterate to create 1 plot campaign at a time\n",
    "  for i, campaign in enumerate(grouped.campaign_id.unique()):\n",
    "    plt.subplot(1, len(id), i+1)\n",
    "    \n",
    "    df = grouped[grouped[___] == campaign].loc[:,['age', 'reporting_start', 'total_conversion']]\n",
    "    df['reporting_start'] = df['reporting_start'].dt.date\n",
    "    pivot = df.pivot(index='___', columns='___', values='___').fillna(0)\n",
    "    pivot.plot.bar(ax=plt.gca())\n"
   ]
  },
  {
   "cell_type": "code",
   "execution_count": null,
   "metadata": {},
   "outputs": [],
   "source": [
    "# create_plot()"
   ]
  },
  {
   "cell_type": "code",
   "execution_count": 28,
   "metadata": {},
   "outputs": [
    {
     "output_type": "execute_result",
     "data": {
      "text/plain": [
       "     ad_id reporting_start reporting_end campaign_id fb_campaign_id    age  \\\n",
       "55  734210      25/08/2017    25/08/2017         936         108654  30-34   \n",
       "56  734215      26/08/2017    26/08/2017         936         108655  30-34   \n",
       "60  734290      26/08/2017    26/08/2017         936         108668  30-34   \n",
       "63  734352      27/08/2017    27/08/2017         936         108678  35-39   \n",
       "64  734361      29/08/2017    29/08/2017         936         108680  35-39   \n",
       "\n",
       "   gender  interest1  interest2  interest3  impressions  clicks  spent  \\\n",
       "55      M         10         16         13      13329.0       4   5.63   \n",
       "56      M         15         19         17      13659.0       3   3.84   \n",
       "60      M         29         32         35       5374.0       1   1.04   \n",
       "63      M         10         11         16       4423.0       1   1.46   \n",
       "64      M         16         19         19      12382.0       2   2.84   \n",
       "\n",
       "    total_conversion  approved_conversion  \n",
       "55               1.0                  1.0  \n",
       "56               1.0                  0.0  \n",
       "60               4.0                  0.0  \n",
       "63               1.0                  1.0  \n",
       "64               1.0                  1.0  "
      ],
      "text/html": "<div>\n<style scoped>\n    .dataframe tbody tr th:only-of-type {\n        vertical-align: middle;\n    }\n\n    .dataframe tbody tr th {\n        vertical-align: top;\n    }\n\n    .dataframe thead th {\n        text-align: right;\n    }\n</style>\n<table border=\"1\" class=\"dataframe\">\n  <thead>\n    <tr style=\"text-align: right;\">\n      <th></th>\n      <th>ad_id</th>\n      <th>reporting_start</th>\n      <th>reporting_end</th>\n      <th>campaign_id</th>\n      <th>fb_campaign_id</th>\n      <th>age</th>\n      <th>gender</th>\n      <th>interest1</th>\n      <th>interest2</th>\n      <th>interest3</th>\n      <th>impressions</th>\n      <th>clicks</th>\n      <th>spent</th>\n      <th>total_conversion</th>\n      <th>approved_conversion</th>\n    </tr>\n  </thead>\n  <tbody>\n    <tr>\n      <th>55</th>\n      <td>734210</td>\n      <td>25/08/2017</td>\n      <td>25/08/2017</td>\n      <td>936</td>\n      <td>108654</td>\n      <td>30-34</td>\n      <td>M</td>\n      <td>10</td>\n      <td>16</td>\n      <td>13</td>\n      <td>13329.0</td>\n      <td>4</td>\n      <td>5.63</td>\n      <td>1.0</td>\n      <td>1.0</td>\n    </tr>\n    <tr>\n      <th>56</th>\n      <td>734215</td>\n      <td>26/08/2017</td>\n      <td>26/08/2017</td>\n      <td>936</td>\n      <td>108655</td>\n      <td>30-34</td>\n      <td>M</td>\n      <td>15</td>\n      <td>19</td>\n      <td>17</td>\n      <td>13659.0</td>\n      <td>3</td>\n      <td>3.84</td>\n      <td>1.0</td>\n      <td>0.0</td>\n    </tr>\n    <tr>\n      <th>60</th>\n      <td>734290</td>\n      <td>26/08/2017</td>\n      <td>26/08/2017</td>\n      <td>936</td>\n      <td>108668</td>\n      <td>30-34</td>\n      <td>M</td>\n      <td>29</td>\n      <td>32</td>\n      <td>35</td>\n      <td>5374.0</td>\n      <td>1</td>\n      <td>1.04</td>\n      <td>4.0</td>\n      <td>0.0</td>\n    </tr>\n    <tr>\n      <th>63</th>\n      <td>734352</td>\n      <td>27/08/2017</td>\n      <td>27/08/2017</td>\n      <td>936</td>\n      <td>108678</td>\n      <td>35-39</td>\n      <td>M</td>\n      <td>10</td>\n      <td>11</td>\n      <td>16</td>\n      <td>4423.0</td>\n      <td>1</td>\n      <td>1.46</td>\n      <td>1.0</td>\n      <td>1.0</td>\n    </tr>\n    <tr>\n      <th>64</th>\n      <td>734361</td>\n      <td>29/08/2017</td>\n      <td>29/08/2017</td>\n      <td>936</td>\n      <td>108680</td>\n      <td>35-39</td>\n      <td>M</td>\n      <td>16</td>\n      <td>19</td>\n      <td>19</td>\n      <td>12382.0</td>\n      <td>2</td>\n      <td>2.84</td>\n      <td>1.0</td>\n      <td>1.0</td>\n    </tr>\n  </tbody>\n</table>\n</div>"
     },
     "metadata": {},
     "execution_count": 28
    }
   ],
   "source": [
    "campaigns.head()"
   ]
  },
  {
   "cell_type": "code",
   "execution_count": 25,
   "metadata": {},
   "outputs": [
    {
     "output_type": "execute_result",
     "data": {
      "text/plain": [
       "   campaign_id    age reporting_start  total_conversion\n",
       "0         1178  30-34      2017-08-19              33.0\n",
       "1         1178  30-34      2017-08-20              38.0\n",
       "2         1178  30-34      2017-08-21              24.0\n",
       "3         1178  30-34      2017-08-22              56.0\n",
       "4         1178  30-34      2017-08-23             135.0\n",
       "..         ...    ...             ...               ...\n",
       "74         936  45-49      2017-08-26              17.0\n",
       "75         936  45-49      2017-08-27               2.0\n",
       "76         936  45-49      2017-08-28               1.0\n",
       "77         936  45-49      2017-08-29               2.0\n",
       "78         936  45-49      2017-08-30               1.0\n",
       "\n",
       "[79 rows x 4 columns]"
      ],
      "text/html": "<div>\n<style scoped>\n    .dataframe tbody tr th:only-of-type {\n        vertical-align: middle;\n    }\n\n    .dataframe tbody tr th {\n        vertical-align: top;\n    }\n\n    .dataframe thead th {\n        text-align: right;\n    }\n</style>\n<table border=\"1\" class=\"dataframe\">\n  <thead>\n    <tr style=\"text-align: right;\">\n      <th></th>\n      <th>campaign_id</th>\n      <th>age</th>\n      <th>reporting_start</th>\n      <th>total_conversion</th>\n    </tr>\n  </thead>\n  <tbody>\n    <tr>\n      <td>0</td>\n      <td>1178</td>\n      <td>30-34</td>\n      <td>2017-08-19</td>\n      <td>33.0</td>\n    </tr>\n    <tr>\n      <td>1</td>\n      <td>1178</td>\n      <td>30-34</td>\n      <td>2017-08-20</td>\n      <td>38.0</td>\n    </tr>\n    <tr>\n      <td>2</td>\n      <td>1178</td>\n      <td>30-34</td>\n      <td>2017-08-21</td>\n      <td>24.0</td>\n    </tr>\n    <tr>\n      <td>3</td>\n      <td>1178</td>\n      <td>30-34</td>\n      <td>2017-08-22</td>\n      <td>56.0</td>\n    </tr>\n    <tr>\n      <td>4</td>\n      <td>1178</td>\n      <td>30-34</td>\n      <td>2017-08-23</td>\n      <td>135.0</td>\n    </tr>\n    <tr>\n      <td>...</td>\n      <td>...</td>\n      <td>...</td>\n      <td>...</td>\n      <td>...</td>\n    </tr>\n    <tr>\n      <td>74</td>\n      <td>936</td>\n      <td>45-49</td>\n      <td>2017-08-26</td>\n      <td>17.0</td>\n    </tr>\n    <tr>\n      <td>75</td>\n      <td>936</td>\n      <td>45-49</td>\n      <td>2017-08-27</td>\n      <td>2.0</td>\n    </tr>\n    <tr>\n      <td>76</td>\n      <td>936</td>\n      <td>45-49</td>\n      <td>2017-08-28</td>\n      <td>1.0</td>\n    </tr>\n    <tr>\n      <td>77</td>\n      <td>936</td>\n      <td>45-49</td>\n      <td>2017-08-29</td>\n      <td>2.0</td>\n    </tr>\n    <tr>\n      <td>78</td>\n      <td>936</td>\n      <td>45-49</td>\n      <td>2017-08-30</td>\n      <td>1.0</td>\n    </tr>\n  </tbody>\n</table>\n<p>79 rows × 4 columns</p>\n</div>"
     },
     "metadata": {},
     "execution_count": 25
    }
   ],
   "source": [
    "\n",
    "grouped = campaigns.groupby(\n",
    "        by=['___', '___', '___'], as_index=False)['___'].sum()\n",
    "\n",
    "grouped\n"
   ]
  },
  {
   "cell_type": "code",
   "execution_count": 33,
   "metadata": {},
   "outputs": [],
   "source": [
    "fig = plt.figure(1, figsize=(15, 6))\n",
    "\n",
    "for i, campaign in enumerate(grouped.campaign_id.unique()):\n",
    "        plt.subplot(1, len(id), i+1)\n",
    "\n",
    "        df = grouped[grouped['___'] == campaign].loc[:, [\n",
    "            'age', 'reporting_start', 'total_conversion']]\n",
    "        df['reporting_start'] = pd.to_datetime(\n",
    "            df['reporting_start'], dayfirst=True).dt.date\n",
    "        pivot = df.pivot(index='___', columns='___',\n",
    "                         values='___').fillna(0)\n",
    "        pivot.plot.bar(ax=plt.gca())"
   ]
  }
 ]
}